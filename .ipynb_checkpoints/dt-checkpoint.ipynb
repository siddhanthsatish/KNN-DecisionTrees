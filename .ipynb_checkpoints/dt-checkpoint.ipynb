{
 "cells": [
  {
   "cell_type": "code",
   "execution_count": 1,
   "metadata": {},
   "outputs": [],
   "source": [
    "from json.tool import main\n",
    "from mimetypes import init\n",
    "import math\n",
    "import numpy as np\n",
    "import scipy.spatial\n",
    "from collections import Counter\n",
    "from collections import OrderedDict\n",
    "import pandas as pd #for data franes \n",
    "import matplotlib.pyplot as plt # for data visualization \n",
    "import seaborn as sns # for data visualization\n",
    "import warnings\n",
    "warnings.filterwarnings('ignore')\n",
    "from sklearn.utils import shuffle\n",
    "from sklearn import preprocessing\n",
    "from sklearn.model_selection import train_test_split"
   ]
  },
  {
   "cell_type": "code",
   "execution_count": 2,
   "metadata": {},
   "outputs": [],
   "source": [
    "def dataframe(data):\n",
    "        return pd.read_csv(data)"
   ]
  },
  {
   "cell_type": "code",
   "execution_count": 3,
   "metadata": {},
   "outputs": [],
   "source": [
    "def shuff(data):\n",
    "        return shuffle(data)"
   ]
  },
  {
   "cell_type": "code",
   "execution_count": 4,
   "metadata": {},
   "outputs": [],
   "source": [
    "def ttsplit(data):\n",
    "        X, y = train_test_split(data, test_size=0.2)\n",
    "        return X,y"
   ]
  },
  {
   "cell_type": "code",
   "execution_count": null,
   "metadata": {},
   "outputs": [],
   "source": []
  },
  {
   "cell_type": "code",
   "execution_count": 6,
   "metadata": {},
   "outputs": [
    {
     "name": "stdout",
     "output_type": "stream",
     "text": [
      "     handicapped-infants  water-project-cost-sharing  \\\n",
      "344                    1                           1   \n",
      "291                    2                           1   \n",
      "402                    0                           1   \n",
      "35                     1                           2   \n",
      "158                    1                           2   \n",
      "\n",
      "     adoption-of-the-budget-resolution  physician-fee-freeze  el-salvador-adi  \\\n",
      "344                                  2                     1                1   \n",
      "291                                  2                     1                1   \n",
      "402                                  2                     2                1   \n",
      "35                                   1                     2                2   \n",
      "158                                  1                     2                2   \n",
      "\n",
      "     religious-groups-in-schools  anti-satellite-test-ban  \\\n",
      "344                            1                        2   \n",
      "291                            2                        2   \n",
      "402                            2                        2   \n",
      "35                             2                        1   \n",
      "158                            2                        1   \n",
      "\n",
      "     aid-to-nicaraguan-contras  mx-missile  immigration  \\\n",
      "344                          2           2            2   \n",
      "291                          2           2            2   \n",
      "402                          2           2            2   \n",
      "35                           1           1            1   \n",
      "158                          1           1            2   \n",
      "\n",
      "     synfuels-corporation-cutback  education-spending  superfund-right-to-sue  \\\n",
      "344                             2                   1                       1   \n",
      "291                             1                   0                       1   \n",
      "402                             1                   2                       1   \n",
      "35                              1                   2                       2   \n",
      "158                             1                   2                       2   \n",
      "\n",
      "     crime  duty-free-exports  export-administration-act-south-africa  target  \n",
      "344      1                  2                                       2       0  \n",
      "291      2                  1                                       2       0  \n",
      "402      2                  1                                       2       1  \n",
      "35       2                  1                                       1       1  \n",
      "158      2                  1                                       1       1  \n",
      "     handicapped-infants  water-project-cost-sharing  \\\n",
      "174                    2                           0   \n",
      "304                    1                           2   \n",
      "272                    2                           1   \n",
      "311                    1                           1   \n",
      "332                    2                           1   \n",
      "\n",
      "     adoption-of-the-budget-resolution  physician-fee-freeze  el-salvador-adi  \\\n",
      "174                                  2                     1                1   \n",
      "304                                  1                     2                2   \n",
      "272                                  2                     1                1   \n",
      "311                                  2                     1                1   \n",
      "332                                  2                     1                1   \n",
      "\n",
      "     religious-groups-in-schools  anti-satellite-test-ban  \\\n",
      "174                            1                        2   \n",
      "304                            2                        1   \n",
      "272                            1                        2   \n",
      "311                            2                        2   \n",
      "332                            1                        2   \n",
      "\n",
      "     aid-to-nicaraguan-contras  mx-missile  immigration  \\\n",
      "174                          2           2            1   \n",
      "304                          1           1            2   \n",
      "272                          2           2            2   \n",
      "311                          2           2            2   \n",
      "332                          2           2            1   \n",
      "\n",
      "     synfuels-corporation-cutback  education-spending  superfund-right-to-sue  \\\n",
      "174                             1                   1                       1   \n",
      "304                             1                   2                       2   \n",
      "272                             1                   1                       1   \n",
      "311                             1                   1                       2   \n",
      "332                             2                   1                       1   \n",
      "\n",
      "     crime  duty-free-exports  export-administration-act-south-africa  target  \n",
      "174      1                  2                                       0       0  \n",
      "304      2                  1                                       0       1  \n",
      "272      1                  2                                       0       0  \n",
      "311      1                  1                                       2       0  \n",
      "332      1                  2                                       0       0  \n"
     ]
    }
   ],
   "source": [
    "data = 'votes.csv'\n",
    "X, y = ttsplit(shuff(dataframe(data)))\n",
    "print(X.head())\n",
    "print(y.head())\n",
    "# print(X.describe())"
   ]
  },
  {
   "cell_type": "code",
   "execution_count": null,
   "metadata": {},
   "outputs": [],
   "source": []
  }
 ],
 "metadata": {
  "interpreter": {
   "hash": "329a851b17c6ea4c169a1079010e9f7f4964a1e3dc1950e004aa59f1ddd39c16"
  },
  "kernelspec": {
   "display_name": "Python 3",
   "language": "python",
   "name": "python3"
  },
  "language_info": {
   "codemirror_mode": {
    "name": "ipython",
    "version": 3
   },
   "file_extension": ".py",
   "mimetype": "text/x-python",
   "name": "python",
   "nbconvert_exporter": "python",
   "pygments_lexer": "ipython3",
   "version": "3.8.5"
  }
 },
 "nbformat": 4,
 "nbformat_minor": 2
}
