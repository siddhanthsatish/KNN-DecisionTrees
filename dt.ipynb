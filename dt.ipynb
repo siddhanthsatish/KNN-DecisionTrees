{
 "cells": [
  {
   "cell_type": "code",
   "execution_count": 162,
   "metadata": {},
   "outputs": [],
   "source": [
    "from json.tool import main\n",
    "from mimetypes import init\n",
    "import math\n",
    "import numpy as np\n",
    "import scipy.spatial\n",
    "from collections import Counter\n",
    "from collections import OrderedDict\n",
    "import pandas as pd #for data franes \n",
    "import matplotlib.pyplot as plt # for data visualization \n",
    "import seaborn as sns # for data visualization\n",
    "import warnings\n",
    "warnings.filterwarnings('ignore')\n",
    "from sklearn.utils import shuffle\n",
    "from sklearn import preprocessing\n",
    "import statistics\n",
    "from sklearn.model_selection import train_test_split"
   ]
  },
  {
   "cell_type": "code",
   "execution_count": 163,
   "metadata": {},
   "outputs": [],
   "source": [
    "def dataframe(data):\n",
    "        return pd.read_csv(data)"
   ]
  },
  {
   "cell_type": "code",
   "execution_count": 164,
   "metadata": {},
   "outputs": [],
   "source": [
    "def shuff(data):\n",
    "        return shuffle(data)"
   ]
  },
  {
   "cell_type": "code",
   "execution_count": 165,
   "metadata": {},
   "outputs": [],
   "source": [
    "def ttsplit(data):\n",
    "        X, y = train_test_split(data, test_size=0.2, random_state=42) \n",
    "        return X,y"
   ]
  },
  {
   "cell_type": "code",
   "execution_count": 166,
   "metadata": {},
   "outputs": [],
   "source": [
    "def entropy(target_col):\n",
    "    val ,counts = np.unique(target_col,return_counts = True)\n",
    "    entropy = 0\n",
    "    for i in range(len(val)):\n",
    "        entropy += (-counts[i]/np.sum(counts)) * np.log2(counts[i]/np.sum(counts))\n",
    "    return entropy"
   ]
  },
  {
   "cell_type": "code",
   "execution_count": 167,
   "metadata": {},
   "outputs": [],
   "source": [
    "def infogain(data, split_name, target_name = 'target'):\n",
    "    total_entropy = entropy(data[target_name])\n",
    "    vals,counts= np.unique(data[split_name],return_counts=True)\n",
    "    average_entropy = 0\n",
    "    for i in range(len(vals)):\n",
    "        attribute =  data.where(data[split_name]==vals[i]).dropna()[target_name]\n",
    "        average_entropy  += (counts[i]/ np.sum(counts))* entropy(attribute)\n",
    "\n",
    "    return total_entropy - average_entropy\n"
   ]
  },
  {
   "cell_type": "code",
   "execution_count": 170,
   "metadata": {},
   "outputs": [],
   "source": [
    "class Node():\n",
    "    def __init__(self, feature=None, ch0=None, ch1=None, ch2= None, target=None, isLeaf=False):\n",
    "        self.feature = feature\n",
    "        self.ch0 = ch0\n",
    "        self.ch1 = ch1\n",
    "        self.ch2 = ch2\n",
    "        self.target = target\n",
    "        self.isLeaf = isLeaf\n",
    "        "
   ]
  },
  {
   "cell_type": "code",
   "execution_count": 171,
   "metadata": {},
   "outputs": [],
   "source": [
    "def unique(s):\n",
    "    a = s.to_numpy() # s.values (pandas<0.24)\n",
    "    return (a[0] == a).all()\n",
    "\n",
    "def decision_tree(data, attributes, label, parent=None):\n",
    "    \n",
    "    node = Node()\n",
    "    if(unique(data['target'])==True):\n",
    "        node.target = data['target'].value_counts().idxmax()\n",
    "        node.isLeaf = True\n",
    "        return node\n",
    "    elif(len(attributes)==0):\n",
    "        node.isLeaf = True\n",
    "        node.target = data['target'].value_counts().idxmax()\n",
    "        return node\n",
    "\n",
    "    infogains = []\n",
    "    for attribute in attributes:\n",
    "        infogains.append(infogain(data, attribute, label))\n",
    "    best = attributes[infogains.index(max(infogains))]\n",
    "    new_attributes = []\n",
    "    for attribute in attributes:\n",
    "        if(attribute!=best):\n",
    "            new_attributes.append(attribute)\n",
    "    \n",
    "    value, count = np.unique(data[best], return_counts= True)\n",
    "    if len(value)!=3:\n",
    "        node.isLeaf = True\n",
    "        node.target = data['target'].value_counts().idxmax()\n",
    "        return node\n",
    "    else:\n",
    "        node.feature = best\n",
    "        node.ch0 = decision_tree(data[data[best] == 0], new_attributes, label)\n",
    "        node.ch1 = decision_tree(data[data[best] == 1], new_attributes, label)\n",
    "        node.ch2 = decision_tree(data[data[best] == 2], new_attributes, label)\n",
    "        return node\n",
    "    \n",
    "    "
   ]
  },
  {
   "cell_type": "code",
   "execution_count": 173,
   "metadata": {},
   "outputs": [],
   "source": [
    "def predict(test, node):\n",
    "    if(node.isLeaf==True):\n",
    "        return node.target\n",
    "    else:\n",
    "        branch = test[node.feature]\n",
    "        if branch == 0:\n",
    "            return predict(test, node.ch0)\n",
    "        elif branch == 1:\n",
    "            return predict(test, node.ch1)\n",
    "        elif branch == 2:\n",
    "            return predict(test, node.ch2)\n",
    "    "
   ]
  },
  {
   "cell_type": "code",
   "execution_count": 174,
   "metadata": {},
   "outputs": [],
   "source": [
    "def test(data,tree):\n",
    "    #convert it to a dictionary\n",
    "    queries = data.iloc[:,:-1].to_dict(orient = \"records\")\n",
    "    targets = data.iloc[:,-1:].to_dict(orient = \"records\")\n",
    "    #Create a empty DataFrame in whose columns the prediction of the tree are stored\n",
    "    predicted = pd.DataFrame(columns=[\"predicted\"]) \n",
    "    count = 0\n",
    "    #Calculate the prediction accuracy\n",
    "    for i in range(len(data)):\n",
    "        predicted.loc[i,\"predicted\"] = predict(queries[i],tree) \n",
    "        if(predicted.loc[i,\"predicted\"] == float(targets[i]['target'])):\n",
    "            count+=1\n",
    "    return count/len(data)"
   ]
  },
  {
   "cell_type": "code",
   "execution_count": 189,
   "metadata": {},
   "outputs": [],
   "source": [
    "def training_plot(k):    \n",
    "    accuracies = []\n",
    "    label = 'target'\n",
    "    attributes = k.columns[:-1]\n",
    "    for i in range(100):\n",
    "        X, y = ttsplit(shuff(k))\n",
    "        tree = decision_tree(X, attributes, label)\n",
    "        accuracies.append(test(X, tree))\n",
    "\n",
    "    print(\"The average training accuracy is: \", sum(accuracies) / len(accuracies))\n",
    "    print(\"The standard deviation of the training accuracy is: \", statistics.pstdev(accuracies))\n",
    "    # Creating histogram\n",
    "    fig, ax = plt.subplots(figsize =(10, 7))\n",
    "    ax.hist(accuracies)\n",
    "\n",
    "    # Show plot\n",
    "    plt.show()\n"
   ]
  },
  {
   "cell_type": "code",
   "execution_count": 190,
   "metadata": {},
   "outputs": [],
   "source": [
    "def testing_plot(k):    \n",
    "    accuracies = []\n",
    "    attributes = k.columns[:-1]\n",
    "    label = 'target'\n",
    "    for i in range(100):\n",
    "        X, y = ttsplit(shuff(k))\n",
    "        tree = decision_tree(X, attributes, label)\n",
    "        accuracies.append(test(y, tree))\n",
    "\n",
    "    print(\"The average of the testing accuracy is: \", sum(accuracies) / len(accuracies))\n",
    "    print(\"The standard deviation of the testing accuracy is: \", statistics.pstdev(accuracies))\n",
    "    # Creating histogram\n",
    "    fig, ax = plt.subplots(figsize =(10, 7))\n",
    "    ax.hist(accuracies)\n",
    "\n",
    "    # Show plot\n",
    "    plt.show()\n",
    "\n",
    "\n",
    "  \n"
   ]
  },
  {
   "cell_type": "code",
   "execution_count": null,
   "metadata": {},
   "outputs": [],
   "source": [
    "data = 'votes.csv'\n",
    "df = dataframe(data)\n",
    "training_plot(df)\n",
    "testing_plot(df)"
   ]
  }
 ],
 "metadata": {
  "interpreter": {
   "hash": "329a851b17c6ea4c169a1079010e9f7f4964a1e3dc1950e004aa59f1ddd39c16"
  },
  "kernelspec": {
   "display_name": "Python 3",
   "language": "python",
   "name": "python3"
  },
  "language_info": {
   "codemirror_mode": {
    "name": "ipython",
    "version": 3
   },
   "file_extension": ".py",
   "mimetype": "text/x-python",
   "name": "python",
   "nbconvert_exporter": "python",
   "pygments_lexer": "ipython3",
   "version": "3.8.5"
  }
 },
 "nbformat": 4,
 "nbformat_minor": 2
}
