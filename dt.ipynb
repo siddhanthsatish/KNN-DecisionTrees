{
 "cells": [
  {
   "cell_type": "code",
   "execution_count": 1,
   "metadata": {},
   "outputs": [],
   "source": [
    "from json.tool import main\n",
    "from mimetypes import init\n",
    "import math\n",
    "import numpy as np\n",
    "import scipy.spatial\n",
    "from collections import Counter\n",
    "from collections import OrderedDict\n",
    "import pandas as pd #for data franes \n",
    "import matplotlib.pyplot as plt # for data visualization \n",
    "import seaborn as sns # for data visualization\n",
    "import warnings\n",
    "warnings.filterwarnings('ignore')\n",
    "from sklearn.utils import shuffle\n",
    "from sklearn import preprocessing\n",
    "from sklearn.model_selection import train_test_split"
   ]
  },
  {
   "cell_type": "code",
   "execution_count": 2,
   "metadata": {},
   "outputs": [],
   "source": [
    "def dataframe(data):\n",
    "        return pd.read_csv(data)"
   ]
  },
  {
   "cell_type": "code",
   "execution_count": 3,
   "metadata": {},
   "outputs": [],
   "source": [
    "def shuff(data):\n",
    "        return shuffle(data)"
   ]
  },
  {
   "cell_type": "code",
   "execution_count": 4,
   "metadata": {},
   "outputs": [],
   "source": [
    "def ttsplit(data):\n",
    "        X, y = train_test_split(data, test_size=0.2)\n",
    "        return X,y"
   ]
  },
  {
   "cell_type": "code",
   "execution_count": 120,
   "metadata": {},
   "outputs": [],
   "source": [
    "def entropy(target_col):\n",
    "    val ,counts = np.unique(target_col,return_counts = True)\n",
    "    entropy = 0\n",
    "    for i in range(len(val)):\n",
    "        entropy += (-counts[i]/np.sum(counts)) * np.log2(counts[i]/np.sum(counts))\n",
    "    return entropy"
   ]
  },
  {
   "cell_type": "code",
   "execution_count": 121,
   "metadata": {},
   "outputs": [],
   "source": [
    "def infogain(data, split_name, target_name = 'target'):\n",
    "    total_entropy = entropy(data[target_name])\n",
    "    print(total_entropy)\n",
    "    vals,counts= np.unique(data[split_name],return_counts=True)\n",
    "    average_entropy = 0\n",
    "    for i in range(len(vals)):\n",
    "        # print(i)\n",
    "        attribute =  data.where(data[split_name]==vals[i]).dropna()[target_name]\n",
    "        average_entropy  += (counts[i]/ np.sum(counts))* entropy(attribute)\n",
    "    print(average_entropy)\n",
    "    return total_entropy - average_entropy\n"
   ]
  },
  {
   "cell_type": "code",
   "execution_count": 122,
   "metadata": {},
   "outputs": [
    {
     "name": "stdout",
     "output_type": "stream",
     "text": [
      "0.9623080486960709\n",
      "0.8362349263792053\n",
      "0.12607312231686563\n"
     ]
    }
   ],
   "source": [
    "data = 'votes.csv'\n",
    "k = dataframe(data)\n",
    "print(infogain(k, 'handicapped-infants'))"
   ]
  },
  {
   "cell_type": "code",
   "execution_count": 39,
   "metadata": {},
   "outputs": [
    {
     "name": "stdout",
     "output_type": "stream",
     "text": [
      "[1.0, 1.0, 1.0, 1.0, 1.0, 1.0, 1.0, 1.0, 1.0, 1.0]\n",
      "10.0\n"
     ]
    }
   ],
   "source": [
    "a= 2\n",
    "b= [ a/2 for i in range(10)]\n",
    "print(b)\n",
    "print(np.sum(b))\n",
    "# print(np.sum([ a for i in range(10)]))"
   ]
  },
  {
   "cell_type": "code",
   "execution_count": null,
   "metadata": {},
   "outputs": [],
   "source": []
  }
 ],
 "metadata": {
  "interpreter": {
   "hash": "329a851b17c6ea4c169a1079010e9f7f4964a1e3dc1950e004aa59f1ddd39c16"
  },
  "kernelspec": {
   "display_name": "Python 3",
   "language": "python",
   "name": "python3"
  },
  "language_info": {
   "codemirror_mode": {
    "name": "ipython",
    "version": 3
   },
   "file_extension": ".py",
   "mimetype": "text/x-python",
   "name": "python",
   "nbconvert_exporter": "python",
   "pygments_lexer": "ipython3",
   "version": "3.8.5"
  }
 },
 "nbformat": 4,
 "nbformat_minor": 2
}
