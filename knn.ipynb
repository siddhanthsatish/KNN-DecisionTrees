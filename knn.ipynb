{
 "cells": [
  {
   "cell_type": "code",
   "execution_count": 79,
   "metadata": {},
   "outputs": [],
   "source": [
    "from json.tool import main\n",
    "from mimetypes import init\n",
    "import math\n",
    "import numpy as np\n",
    "import scipy.spatial\n",
    "from collections import Counter\n",
    "from collections import OrderedDict\n",
    "import pandas as pd #for data franes \n",
    "import matplotlib.pyplot as plt # for data visualization \n",
    "import seaborn as sns # for data visualization\n",
    "import warnings\n",
    "warnings.filterwarnings('ignore')\n",
    "from sklearn.utils import shuffle\n",
    "from sklearn import preprocessing\n",
    "from sklearn.model_selection import train_test_split"
   ]
  },
  {
   "cell_type": "code",
   "execution_count": 30,
   "metadata": {},
   "outputs": [],
   "source": [
    "k = 1"
   ]
  },
  {
   "cell_type": "code",
   "execution_count": 31,
   "metadata": {},
   "outputs": [],
   "source": [
    "def dataframe(data, labels):\n",
    "        return pd.read_csv(data, names = labels)"
   ]
  },
  {
   "cell_type": "code",
   "execution_count": 32,
   "metadata": {},
   "outputs": [],
   "source": [
    "def shuff(data):\n",
    "        return shuffle(data)"
   ]
  },
  {
   "cell_type": "code",
   "execution_count": 33,
   "metadata": {},
   "outputs": [],
   "source": [
    "def ttsplit(data):\n",
    "        X, y = train_test_split(data, test_size=0.2)\n",
    "        return X,y"
   ]
  },
  {
   "cell_type": "code",
   "execution_count": 91,
   "metadata": {},
   "outputs": [],
   "source": [
    "def minmaxscaling(column) :\n",
    "    return ((column - column.min()) / (column.max() - column.min()))\n",
    "\n",
    "def normalize(df):\n",
    "    for col in df.columns[0:4]:\n",
    "        df[col] = minmaxscaling(df[col])\n",
    "    return df"
   ]
  },
  {
   "cell_type": "code",
   "execution_count": 63,
   "metadata": {},
   "outputs": [],
   "source": [
    "def sort_tuple(tup): \n",
    "    # reverse = None (Sorts in Ascending order) \n",
    "    # key is set to sort using second element of \n",
    "    # sublist lambda has been used \n",
    "    tup.sort(key = lambda x: x[0]) \n",
    "    return tup \n",
    "\n",
    "# # Driver Code \n",
    "# tup = [('rishav', 10), ('akash', 5), ('ram', 20), ('gaurav', 15)] \n",
    "  \n",
    "# # printing the sorted list of tuples\n",
    "# print(Sort_Tuple(tup)) "
   ]
  },
  {
   "cell_type": "code",
   "execution_count": 73,
   "metadata": {},
   "outputs": [],
   "source": [
    "def knn(X, y, k):      \n",
    "        d = []\n",
    "        knn = []\n",
    "        for test_index, test_row in y.iterrows():\n",
    "            d = []\n",
    "            point1 = np.array([test_row['f1'], test_row['f2'], test_row['f3'], test_row['f4']])\n",
    "            for train_index, train_row in X.iterrows():\n",
    "                dist = 0\n",
    "                point2 = np.array([train_row['f1'], train_row['f2'], train_row['f3'], train_row['f4']])\n",
    "                dist = scipy.spatial.distance.euclidean(point1, point2)\n",
    "                d.append( (dist, [ train_row['f1'], train_row['f2'], train_row['f3'], train_row['f4'], train_row['label'] ]) ) \n",
    "            count=0\n",
    "            knearest = []\n",
    "            new_d = sort_tuple(d)\n",
    "            for i in new_d:\n",
    "                if(count<k):\n",
    "                    knearest.append(i[1][4])\n",
    "                    count+=1\n",
    "                else:\n",
    "                    break\n",
    "            # print((knearest, test_row['label']))\n",
    "            knn.append((knearest, test_row['label']))\n",
    "        # print(knn)\n",
    "        return knn"
   ]
  },
  {
   "cell_type": "code",
   "execution_count": 74,
   "metadata": {},
   "outputs": [],
   "source": [
    "def accuracy(knn):\n",
    "        count = 0 \n",
    "        for tup in knn:\n",
    "            l = tup[0]\n",
    "            occurence_count = Counter(l)\n",
    "            s = occurence_count.most_common(1)[0][0]\n",
    "            if s == tup[1]:\n",
    "                count+=1\n",
    "        return count/len(knn)"
   ]
  },
  {
   "cell_type": "code",
   "execution_count": 98,
   "metadata": {},
   "outputs": [
    {
     "name": "stdout",
     "output_type": "stream",
     "text": [
      "1.0\n"
     ]
    }
   ],
   "source": [
    "k=1\n",
    "data = 'iris.csv'\n",
    "labels= ['f1', 'f2', 'f3', 'f4', 'label']\n",
    "X, y = ttsplit(shuff(dataframe(data, labels)))\n",
    "X = normalize(X)\n",
    "y = normalize(y)\n",
    "# print(type(X))\n",
    "# print(type(X.columns[0:4]))\n",
    "# print(X.columns[0:4])\n",
    "# print(X.head)\n",
    "# print(y.head)\n",
    "list = knn(X, y, k)\n",
    "acc = accuracy(list)\n",
    "print(acc)\n",
    "\n"
   ]
  },
  {
   "cell_type": "code",
   "execution_count": 95,
   "metadata": {},
   "outputs": [
    {
     "name": "stdout",
     "output_type": "stream",
     "text": [
      "{1: [], 3: [], 5: [], 7: [], 9: [], 11: [], 13: [], 15: [], 17: [], 19: [], 21: [], 23: [], 25: [], 27: [], 29: [], 31: [], 33: [], 35: [], 37: [], 39: [], 41: [], 43: [], 45: [], 47: [], 49: []}\n",
      "{1: [1.0], 3: [0.975], 5: [0.975], 7: [0.9666666666666667], 9: [0.975], 11: [0.9833333333333333], 13: [0.9833333333333333], 15: [0.9833333333333333], 17: [0.975], 19: [0.975], 21: [0.9666666666666667], 23: [0.9583333333333334], 25: [0.9666666666666667], 27: [0.9666666666666667], 29: [0.9583333333333334], 31: [0.9583333333333334], 33: [0.95], 35: [0.9583333333333334], 37: [0.9583333333333334], 39: [0.9333333333333333], 41: [0.9416666666666667], 43: [0.9416666666666667], 45: [0.9416666666666667], 47: [0.9416666666666667], 49: [0.9416666666666667]}\n"
     ]
    },
    {
     "data": {
      "image/png": "[encoded data removed]",
      "text/plain": [
       "<Figure size 432x288 with 1 Axes>"
      ]
     },
     "metadata": {
      "needs_background": "light"
     },
     "output_type": "display_data"
    }
   ],
   "source": [
    "#change object oriented design and value for j\n",
    "#shuffle before\n",
    "#normalise values\n",
    "#graph for training and testing\n",
    "accd = {}\n",
    "for i in range(1, 51, 2):\n",
    "    accd.update( {i: []} )\n",
    "print(accd)\n",
    "\n",
    "#training accuracy for 1 to 51 values\n",
    "for i in range(1, 2):\n",
    "        data = 'iris.csv'\n",
    "        labels= ['f1', 'f2', 'f3', 'f4', 'label']\n",
    "        X, y = ttsplit(shuff(dataframe(data, labels)))\n",
    "        for k in range(1, 51, 2):\n",
    "            list = knn(X, X, k)\n",
    "            acc = accuracy(list)\n",
    "            accd[k].append(acc)\n",
    "print(accd)\n",
    "\n",
    "#finiding mean accuracies\n",
    "time = []\n",
    "mean_acc = []\n",
    "c = 1\n",
    "\n",
    "for i in accd:\n",
    "    mean_acc.append(sum(accd[i])/len(accd[i]))\n",
    "    time.append(c)\n",
    "    c+=2\n",
    "plt.plot(time, mean_acc)\n",
    "plt.show()"
   ]
  },
  {
   "cell_type": "code",
   "execution_count": 99,
   "metadata": {},
   "outputs": [
    {
     "name": "stdout",
     "output_type": "stream",
     "text": [
      "{1: [], 3: [], 5: [], 7: [], 9: [], 11: [], 13: [], 15: [], 17: [], 19: [], 21: [], 23: [], 25: [], 27: [], 29: [], 31: [], 33: [], 35: [], 37: [], 39: [], 41: [], 43: [], 45: [], 47: [], 49: []}\n"
     ]
    }
   ],
   "source": [
    "#change object oriented design and value for j\n",
    "#shuffle before\n",
    "#normalise values\n",
    "#graph for training and testing\n",
    "accd = {}\n",
    "for i in range(1, 51, 2):\n",
    "    accd.update( {i: []} )\n",
    "print(accd)\n",
    "\n",
    "#training accuracy for 1 to 51 values\n",
    "for i in range(1, 21):\n",
    "        data = 'iris.csv'\n",
    "        labels= ['f1', 'f2', 'f3', 'f4', 'label']\n",
    "        X, y = ttsplit(shuff(dataframe(data, labels)))\n",
    "        for k in range(1, 51, 2):\n",
    "            list = knn(X, X, k)\n",
    "            acc = accuracy(list)\n",
    "            accd[k].append(acc)\n",
    "print(accd)\n",
    "\n",
    "#finiding mean accuracies\n",
    "time = []\n",
    "mean_acc = []\n",
    "c = 1\n",
    "\n",
    "for i in accd:\n",
    "    mean_acc.append(sum(accd[i])/len(accd[i]))\n",
    "    time.append(c)\n",
    "    c+=2\n",
    "plt.plot(time, mean_acc)\n",
    "plt.show()"
   ]
  },
  {
   "cell_type": "code",
   "execution_count": null,
   "metadata": {},
   "outputs": [],
   "source": []
  }
 ],
 "metadata": {
  "interpreter": {
   "hash": "329a851b17c6ea4c169a1079010e9f7f4964a1e3dc1950e004aa59f1ddd39c16"
  },
  "kernelspec": {
   "display_name": "Python 3",
   "language": "python",
   "name": "python3"
  },
  "language_info": {
   "codemirror_mode": {
    "name": "ipython",
    "version": 3
   },
   "file_extension": ".py",
   "mimetype": "text/x-python",
   "name": "python",
   "nbconvert_exporter": "python",
   "pygments_lexer": "ipython3",
   "version": "3.8.5"
  }
 },
 "nbformat": 4,
 "nbformat_minor": 2
}
